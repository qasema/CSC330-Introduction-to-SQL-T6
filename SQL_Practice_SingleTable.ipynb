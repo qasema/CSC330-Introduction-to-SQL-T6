{
 "cells": [
  {
   "cell_type": "markdown",
   "metadata": {},
   "source": [
    "# Practice Exercises for Single Table SQL\n",
    "\n",
    "Given a dataset and a set of questions, form the queries to answer the questions. All questions in this particular exercise only require a query to a single table. \n",
    "\n",
    "⚠️ *Note:* Please display minimal number of attributes (columns) needed to make sense of your answer. Not too many, not too few.\n"
   ]
  },
  {
   "cell_type": "markdown",
   "metadata": {},
   "source": [
    "## Setup\n",
    "The SQLite database for these exercises has been setup for you. For the curious, you can look at this file for the DDL commands to setup the tables and insert data.  `db_illum_ddl_5_3.sql`\n",
    "\n",
    "Here is the schema for the database. The arrows show foreign keys, which is just fyi for now. \n",
    "\n",
    "![worker_project schema](worker_project_schema.png) "
   ]
  },
  {
   "cell_type": "code",
   "execution_count": 2,
   "metadata": {},
   "outputs": [],
   "source": [
    "# Make sure to always run this cell when you open this notebook\n",
    "# Start the Jupyter SQL engine, connecting to a SQLite database \n",
    "%reload_ext sql \n",
    "%sql sqlite:///worker_project.db"
   ]
  },
  {
   "cell_type": "markdown",
   "metadata": {},
   "source": [
    "0. In the command line, inspect the sqlite database (worker_project.db) to see what the tables and columns actually are. Any differences you observe? (Also, copy past your output in the cell below)"
   ]
  },
  {
   "cell_type": "code",
   "execution_count": 2,
   "metadata": {},
   "outputs": [],
   "source": [
    "# There are some differences in the names of the columns in some tables from the Schema above \n",
    "# for example: the Worker tabel contains ( empId, lastName, firstName, deptName, birthDate, hireDate, salary) \n",
    "# while in the Schema (empId, empName, dateHired, birtdate, salary, depName)\n",
    "# In the Project Table there is only difference in the naming of the expectedDurationWeeks column. In the Schema called expectedDuration \n",
    "# In Assing table there is only difference in the naming of the hoursAssigned column. In the Schema called hours. "
   ]
  },
  {
   "cell_type": "markdown",
   "metadata": {},
   "source": [
    "1. Get the names of all workers in the Accounting department."
   ]
  },
  {
   "cell_type": "code",
   "execution_count": 4,
   "metadata": {
    "vscode": {
     "languageId": "sql"
    }
   },
   "outputs": [
    {
     "name": "stdout",
     "output_type": "stream",
     "text": [
      " * sqlite:///worker_project.db\n",
      "Done.\n"
     ]
    },
    {
     "data": {
      "text/html": [
       "<table>\n",
       "    <tr>\n",
       "        <th>firstName</th>\n",
       "        <th>lastName</th>\n",
       "    </tr>\n",
       "    <tr>\n",
       "        <td>Tom</td>\n",
       "        <td>Smith</td>\n",
       "    </tr>\n",
       "    <tr>\n",
       "        <td>Mary</td>\n",
       "        <td>Jones</td>\n",
       "    </tr>\n",
       "    <tr>\n",
       "        <td>Jane</td>\n",
       "        <td>Burns</td>\n",
       "    </tr>\n",
       "</table>"
      ],
      "text/plain": [
       "[('Tom', 'Smith'), ('Mary', 'Jones'), ('Jane', 'Burns')]"
      ]
     },
     "execution_count": 4,
     "metadata": {},
     "output_type": "execute_result"
    }
   ],
   "source": [
    "%%sql\n",
    "SELECT firstName,lastName FROM Worker WHERE deptName == 'Accounting'\n"
   ]
  },
  {
   "cell_type": "markdown",
   "metadata": {},
   "source": [
    "2. Get the name of the employee in the Research department who has the lowest salary."
   ]
  },
  {
   "cell_type": "code",
   "execution_count": 6,
   "metadata": {
    "vscode": {
     "languageId": "sql"
    }
   },
   "outputs": [
    {
     "name": "stdout",
     "output_type": "stream",
     "text": [
      " * sqlite:///worker_project.db\n",
      "Done.\n"
     ]
    },
    {
     "data": {
      "text/html": [
       "<table>\n",
       "    <tr>\n",
       "        <th>firstName</th>\n",
       "        <th>lastName</th>\n",
       "        <th>salary</th>\n",
       "    </tr>\n",
       "    <tr>\n",
       "        <td>Jane</td>\n",
       "        <td>Burns</td>\n",
       "        <td>39000</td>\n",
       "    </tr>\n",
       "</table>"
      ],
      "text/plain": [
       "[('Jane', 'Burns', 39000)]"
      ]
     },
     "execution_count": 6,
     "metadata": {},
     "output_type": "execute_result"
    }
   ],
   "source": [
    "%%sql\n",
    "SELECT firstName,lastName,salary FROM Worker ORDER BY Salary LIMIT 1\n"
   ]
  },
  {
   "cell_type": "markdown",
   "metadata": {},
   "source": [
    "3. Get the details of the project with the highest budget."
   ]
  },
  {
   "cell_type": "code",
   "execution_count": 7,
   "metadata": {
    "vscode": {
     "languageId": "sql"
    }
   },
   "outputs": [
    {
     "name": "stdout",
     "output_type": "stream",
     "text": [
      " * sqlite:///worker_project.db\n",
      "Done.\n"
     ]
    },
    {
     "data": {
      "text/html": [
       "<table>\n",
       "    <tr>\n",
       "        <th>projNo</th>\n",
       "        <th>projName</th>\n",
       "        <th>projMgrId</th>\n",
       "        <th>budget</th>\n",
       "        <th>startDate</th>\n",
       "        <th>expectedDurationWeeks</th>\n",
       "    </tr>\n",
       "    <tr>\n",
       "        <td>1025</td>\n",
       "        <td>Neptune</td>\n",
       "        <td>110</td>\n",
       "        <td>600000</td>\n",
       "        <td>01-Feb-2021</td>\n",
       "        <td>45</td>\n",
       "    </tr>\n",
       "</table>"
      ],
      "text/plain": [
       "[(1025, 'Neptune', 110, 600000, '01-Feb-2021', 45)]"
      ]
     },
     "execution_count": 7,
     "metadata": {},
     "output_type": "execute_result"
    }
   ],
   "source": [
    "%%sql\n",
    "SELECT * FROM Project ORDER BY budget DESC LIMIT 1;\n"
   ]
  },
  {
   "cell_type": "markdown",
   "metadata": {},
   "source": [
    "## The following questions may require more than one query to answer. \n",
    "Show your work! Add as many SQL cells as needed for each question. Use comments to indicate how the output of each query is used to arrive at your answer.  "
   ]
  },
  {
   "cell_type": "markdown",
   "metadata": {},
   "source": [
    "4. List out alphabetically the names of all workers working on Project 1001."
   ]
  },
  {
   "cell_type": "code",
   "execution_count": 9,
   "metadata": {
    "vscode": {
     "languageId": "sql"
    }
   },
   "outputs": [
    {
     "name": "stdout",
     "output_type": "stream",
     "text": [
      " * sqlite:///worker_project.db\n",
      "Done.\n"
     ]
    },
    {
     "data": {
      "text/html": [
       "<table>\n",
       "    <tr>\n",
       "        <th>firstName</th>\n",
       "    </tr>\n",
       "    <tr>\n",
       "        <td>Amanda</td>\n",
       "    </tr>\n",
       "    <tr>\n",
       "        <td>Jane</td>\n",
       "    </tr>\n",
       "    <tr>\n",
       "        <td>Mary</td>\n",
       "    </tr>\n",
       "    <tr>\n",
       "        <td>Tom</td>\n",
       "    </tr>\n",
       "</table>"
      ],
      "text/plain": [
       "[('Amanda',), ('Jane',), ('Mary',), ('Tom',)]"
      ]
     },
     "execution_count": 9,
     "metadata": {},
     "output_type": "execute_result"
    }
   ],
   "source": [
    "%%sql\n",
    "\n",
    "SELECT firstName FROM worker WHERE empId IN (SELECT empId FROM Assign WHERE projNo == 1001) ORDER BY firstName"
   ]
  },
  {
   "cell_type": "markdown",
   "metadata": {},
   "source": [
    "5. Get an alphabetical list of names and corresponding ratings for all workers on any project managed by Michael Burns."
   ]
  },
  {
   "cell_type": "code",
   "execution_count": 5,
   "metadata": {
    "vscode": {
     "languageId": "sql"
    }
   },
   "outputs": [
    {
     "name": "stdout",
     "output_type": "stream",
     "text": [
      " * sqlite:///worker_project.db\n",
      "Done.\n"
     ]
    },
    {
     "data": {
      "text/html": [
       "<table>\n",
       "    <tr>\n",
       "        <th>firstName</th>\n",
       "        <th>lastName</th>\n",
       "        <th>rating</th>\n",
       "    </tr>\n",
       "    <tr>\n",
       "        <td>Michael</td>\n",
       "        <td>Burns</td>\n",
       "        <td>5</td>\n",
       "    </tr>\n",
       "    <tr>\n",
       "        <td>Amanda</td>\n",
       "        <td>Chin</td>\n",
       "        <td>4</td>\n",
       "    </tr>\n",
       "    <tr>\n",
       "        <td>Michael</td>\n",
       "        <td>Burns</td>\n",
       "        <td>None</td>\n",
       "    </tr>\n",
       "    <tr>\n",
       "        <td>Michael</td>\n",
       "        <td>Burns</td>\n",
       "        <td>None</td>\n",
       "    </tr>\n",
       "</table>"
      ],
      "text/plain": [
       "[('Michael', 'Burns', 5),\n",
       " ('Amanda', 'Chin', 4),\n",
       " ('Michael', 'Burns', None),\n",
       " ('Michael', 'Burns', None)]"
      ]
     },
     "execution_count": 5,
     "metadata": {},
     "output_type": "execute_result"
    }
   ],
   "source": [
    "%%sql\n",
    "\n",
    "SELECT firstName, lastName, rating \n",
    "FROM Worker, \n",
    "     (SELECT empId, rating \n",
    "      FROM Assign \n",
    "      WHERE projNo IN \n",
    "          (SELECT projNo \n",
    "           FROM Project \n",
    "           WHERE projMgrId IN \n",
    "               (SELECT empId \n",
    "                FROM Worker \n",
    "                WHERE lastName = 'Burns' AND firstName = 'Michael') )) AS emp WHERE Worker.empId = emp.empId;\n"
   ]
  },
  {
   "cell_type": "markdown",
   "metadata": {},
   "source": [
    "6. For all projects starting after Feb 1, 2022, find the project number and names of all workers assigned to them. "
   ]
  },
  {
   "cell_type": "code",
   "execution_count": 13,
   "metadata": {
    "vscode": {
     "languageId": "sql"
    }
   },
   "outputs": [
    {
     "name": "stdout",
     "output_type": "stream",
     "text": [
      " * sqlite:///worker_project.db\n",
      "Done.\n"
     ]
    },
    {
     "data": {
      "text/html": [
       "<table>\n",
       "    <tr>\n",
       "        <th>projNo</th>\n",
       "        <th>firstName</th>\n",
       "        <th>lastName</th>\n",
       "    </tr>\n",
       "    <tr>\n",
       "        <td>1005</td>\n",
       "        <td>Mary</td>\n",
       "        <td>Jones</td>\n",
       "    </tr>\n",
       "    <tr>\n",
       "        <td>1019</td>\n",
       "        <td>Michael</td>\n",
       "        <td>Burns</td>\n",
       "    </tr>\n",
       "    <tr>\n",
       "        <td>1019</td>\n",
       "        <td>Amanda</td>\n",
       "        <td>Chin</td>\n",
       "    </tr>\n",
       "    <tr>\n",
       "        <td>1030</td>\n",
       "        <td>Michael</td>\n",
       "        <td>Burns</td>\n",
       "    </tr>\n",
       "</table>"
      ],
      "text/plain": [
       "[(1005, 'Mary', 'Jones'),\n",
       " (1019, 'Michael', 'Burns'),\n",
       " (1019, 'Amanda', 'Chin'),\n",
       " (1030, 'Michael', 'Burns')]"
      ]
     },
     "execution_count": 13,
     "metadata": {},
     "output_type": "execute_result"
    }
   ],
   "source": [
    "%%sql\n",
    "\n",
    "SELECT projNo, firstName,lastName \n",
    "FROM(SELECT * FROM Assign \n",
    "WHERE projNo IN (SELECT projNo FROM project\n",
    "  WHERE startDate > '01-Feb-2022')) as P\n",
    "  INNER JOIN Worker ON Worker.empId == P.empId;"
   ]
  },
  {
   "cell_type": "markdown",
   "metadata": {},
   "source": [
    "7. Find the names of employees who are not assigned as managers any project."
   ]
  },
  {
   "cell_type": "code",
   "execution_count": 15,
   "metadata": {
    "vscode": {
     "languageId": "sql"
    }
   },
   "outputs": [
    {
     "name": "stdout",
     "output_type": "stream",
     "text": [
      " * sqlite:///worker_project.db\n",
      "Done.\n"
     ]
    },
    {
     "data": {
      "text/html": [
       "<table>\n",
       "    <tr>\n",
       "        <th>firstName</th>\n",
       "        <th>lastName</th>\n",
       "    </tr>\n",
       "    <tr>\n",
       "        <td>Mary</td>\n",
       "        <td>Jones</td>\n",
       "    </tr>\n",
       "    <tr>\n",
       "        <td>Jane</td>\n",
       "        <td>Burns</td>\n",
       "    </tr>\n",
       "    <tr>\n",
       "        <td>Amanda</td>\n",
       "        <td>Chin</td>\n",
       "    </tr>\n",
       "</table>"
      ],
      "text/plain": [
       "[('Mary', 'Jones'), ('Jane', 'Burns'), ('Amanda', 'Chin')]"
      ]
     },
     "execution_count": 15,
     "metadata": {},
     "output_type": "execute_result"
    }
   ],
   "source": [
    "%%sql\n",
    "\n",
    "SELECT firstName, lastName\n",
    "FROM Worker \n",
    "WHERE empId NOT IN (SELECT projMgrId FROM Project)"
   ]
  },
  {
   "cell_type": "markdown",
   "metadata": {},
   "source": [
    "8. Find details of any project with the string \"urn\" in the project name. "
   ]
  },
  {
   "cell_type": "code",
   "execution_count": 17,
   "metadata": {
    "vscode": {
     "languageId": "sql"
    }
   },
   "outputs": [
    {
     "name": "stdout",
     "output_type": "stream",
     "text": [
      " * sqlite:///worker_project.db\n",
      "Done.\n"
     ]
    },
    {
     "data": {
      "text/html": [
       "<table>\n",
       "    <tr>\n",
       "        <th>projNo</th>\n",
       "        <th>projName</th>\n",
       "        <th>projMgrId</th>\n",
       "        <th>budget</th>\n",
       "        <th>startDate</th>\n",
       "        <th>expectedDurationWeeks</th>\n",
       "    </tr>\n",
       "    <tr>\n",
       "        <td>1005</td>\n",
       "        <td>Saturn</td>\n",
       "        <td>101</td>\n",
       "        <td>400000</td>\n",
       "        <td>01-Jun-2022</td>\n",
       "        <td>35</td>\n",
       "    </tr>\n",
       "</table>"
      ],
      "text/plain": [
       "[(1005, 'Saturn', 101, 400000, '01-Jun-2022', 35)]"
      ]
     },
     "execution_count": 17,
     "metadata": {},
     "output_type": "execute_result"
    }
   ],
   "source": [
    "%%sql\n",
    "\n",
    "SELECT * FROM Project \n",
    "WHERE projName LIKE '%urn'\n"
   ]
  },
  {
   "cell_type": "markdown",
   "metadata": {},
   "source": [
    "9. List out the projects from most to least efficient. (hint: the project with the lowest budget is not necessarily the one that uses time and human resources effectively.)"
   ]
  },
  {
   "cell_type": "code",
   "execution_count": 46,
   "metadata": {
    "vscode": {
     "languageId": "sql"
    }
   },
   "outputs": [
    {
     "name": "stdout",
     "output_type": "stream",
     "text": [
      " * sqlite:///worker_project.db\n",
      "Done.\n"
     ]
    },
    {
     "data": {
      "text/html": [
       "<table>\n",
       "    <tr>\n",
       "        <th>projNo</th>\n",
       "        <th>projName</th>\n",
       "        <th>projMgrId</th>\n",
       "        <th>budget</th>\n",
       "        <th>startDate</th>\n",
       "        <th>expectedDurationWeeks</th>\n",
       "        <th>Dollar_per_week</th>\n",
       "    </tr>\n",
       "    <tr>\n",
       "        <td>1001</td>\n",
       "        <td>Jupiter</td>\n",
       "        <td>101</td>\n",
       "        <td>300000</td>\n",
       "        <td>01-Feb-2021</td>\n",
       "        <td>50</td>\n",
       "        <td>6000</td>\n",
       "    </tr>\n",
       "    <tr>\n",
       "        <td>1030</td>\n",
       "        <td>Pluto</td>\n",
       "        <td>110</td>\n",
       "        <td>380000</td>\n",
       "        <td>15-Sep-2023</td>\n",
       "        <td>50</td>\n",
       "        <td>7600</td>\n",
       "    </tr>\n",
       "    <tr>\n",
       "        <td>1019</td>\n",
       "        <td>Mercury</td>\n",
       "        <td>110</td>\n",
       "        <td>350000</td>\n",
       "        <td>15-Feb-2022</td>\n",
       "        <td>40</td>\n",
       "        <td>8750</td>\n",
       "    </tr>\n",
       "    <tr>\n",
       "        <td>1005</td>\n",
       "        <td>Saturn</td>\n",
       "        <td>101</td>\n",
       "        <td>400000</td>\n",
       "        <td>01-Jun-2022</td>\n",
       "        <td>35</td>\n",
       "        <td>11428</td>\n",
       "    </tr>\n",
       "    <tr>\n",
       "        <td>1025</td>\n",
       "        <td>Neptune</td>\n",
       "        <td>110</td>\n",
       "        <td>600000</td>\n",
       "        <td>01-Feb-2021</td>\n",
       "        <td>45</td>\n",
       "        <td>13333</td>\n",
       "    </tr>\n",
       "</table>"
      ],
      "text/plain": [
       "[(1001, 'Jupiter', 101, 300000, '01-Feb-2021', 50, 6000),\n",
       " (1030, 'Pluto', 110, 380000, '15-Sep-2023', 50, 7600),\n",
       " (1019, 'Mercury', 110, 350000, '15-Feb-2022', 40, 8750),\n",
       " (1005, 'Saturn', 101, 400000, '01-Jun-2022', 35, 11428),\n",
       " (1025, 'Neptune', 110, 600000, '01-Feb-2021', 45, 13333)]"
      ]
     },
     "execution_count": 46,
     "metadata": {},
     "output_type": "execute_result"
    }
   ],
   "source": [
    "%%sql\n",
    "SELECT *, (budget/expectedDurationWeeks) AS Dollar_per_week FROM Project Order by budget/expectedDurationWeeks \n"
   ]
  },
  {
   "cell_type": "markdown",
   "metadata": {},
   "source": [
    "10. Explain your reasoning for your solution to #9 (use a Markdown cell), including who should get the award for Most Efficient Project Manager."
   ]
  },
  {
   "cell_type": "code",
   "execution_count": null,
   "metadata": {
    "vscode": {
     "languageId": "sql"
    }
   },
   "outputs": [],
   "source": [
    "I think the most efficient Project should be the one that has the least money spent per week. Tom Smith is the most efficient project manager  \n"
   ]
  },
  {
   "cell_type": "markdown",
   "metadata": {},
   "source": [
    "11. Bonus!!  A Query that you can't easily answer with just a set of queries: Get a list of project numbers with name and start dates, of all the projects that have the same start date as another. \n",
    "*you don't have to answer this, but think about it!*\n"
   ]
  },
  {
   "cell_type": "code",
   "execution_count": 45,
   "metadata": {
    "vscode": {
     "languageId": "sql"
    }
   },
   "outputs": [
    {
     "name": "stdout",
     "output_type": "stream",
     "text": [
      " * sqlite:///worker_project.db\n",
      "Done.\n"
     ]
    },
    {
     "data": {
      "text/html": [
       "<table>\n",
       "    <tr>\n",
       "        <th>projNo</th>\n",
       "        <th>projName</th>\n",
       "        <th>startDate</th>\n",
       "    </tr>\n",
       "    <tr>\n",
       "        <td>1001</td>\n",
       "        <td>Jupiter</td>\n",
       "        <td>01-Feb-2021</td>\n",
       "    </tr>\n",
       "    <tr>\n",
       "        <td>1025</td>\n",
       "        <td>Neptune</td>\n",
       "        <td>01-Feb-2021</td>\n",
       "    </tr>\n",
       "</table>"
      ],
      "text/plain": [
       "[(1001, 'Jupiter', '01-Feb-2021'), (1025, 'Neptune', '01-Feb-2021')]"
      ]
     },
     "execution_count": 45,
     "metadata": {},
     "output_type": "execute_result"
    }
   ],
   "source": [
    "%%sql\n",
    "SELECT DISTINCT p1.projNo, p1.projName, p1.startDate\n",
    "FROM PROJECT p1, PROJECT p2\n",
    "WHERE p1.startDate = p2.startDate\n",
    "AND p1.projNo != p2.projNo\n"
   ]
  },
  {
   "cell_type": "markdown",
   "metadata": {},
   "source": [
    "## Submission:\n",
    "\n",
    "Commit and push your changes to this document by the deadline, and share a link to the repository in the Moodle assignment.  "
   ]
  }
 ],
 "metadata": {
  "kernelspec": {
   "display_name": "Python 3 (ipykernel)",
   "language": "python",
   "name": "python3"
  },
  "language_info": {
   "codemirror_mode": {
    "name": "ipython",
    "version": 3
   },
   "file_extension": ".py",
   "mimetype": "text/x-python",
   "name": "python",
   "nbconvert_exporter": "python",
   "pygments_lexer": "ipython3",
   "version": "3.10.4"
  },
  "vscode": {
   "interpreter": {
    "hash": "3ad933181bd8a04b432d3370b9dc3b0662ad032c4dfaa4e4f1596c548f763858"
   }
  }
 },
 "nbformat": 4,
 "nbformat_minor": 4
}
